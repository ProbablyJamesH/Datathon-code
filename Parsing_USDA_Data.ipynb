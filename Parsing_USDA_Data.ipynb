{
  "nbformat": 4,
  "nbformat_minor": 0,
  "metadata": {
    "colab": {
      "provenance": []
    },
    "kernelspec": {
      "name": "python3",
      "display_name": "Python 3"
    },
    "language_info": {
      "name": "python"
    }
  },
  "cells": [
    {
      "cell_type": "code",
      "execution_count": null,
      "metadata": {
        "colab": {
          "base_uri": "https://localhost:8080/"
        },
        "id": "B4EFLgRUxjD0",
        "outputId": "c7f4b088-7d6e-4f05-c010-13f3901b21a2"
      },
      "outputs": [
        {
          "output_type": "stream",
          "name": "stderr",
          "text": [
            "<ipython-input-1-09165f2e18c8>:4: DtypeWarning: Columns (9,13) have mixed types. Specify dtype option on import or set low_memory=False.\n",
            "  usda_pdp = pd.read_csv(\"USDA_PDP_AnalyticalResults (1).csv\", delimiter=',')\n"
          ]
        }
      ],
      "source": [
        "import pandas as pd\n",
        "import datetime\n",
        "\n",
        "usda_pdp = pd.read_csv(\"USDA_PDP_AnalyticalResults (1).csv\", delimiter=',')"
      ]
    },
    {
      "cell_type": "code",
      "source": [
        "usda_pdp = pd.read_csv(\"USDA_PDP_AnalyticalResults (1).csv\")"
      ],
      "metadata": {
        "colab": {
          "base_uri": "https://localhost:8080/"
        },
        "id": "SdOx6Xzp8-zb",
        "outputId": "a1c74803-bece-4ece-c639-7531f0d35d39"
      },
      "execution_count": null,
      "outputs": [
        {
          "output_type": "stream",
          "name": "stderr",
          "text": [
            "<ipython-input-3-34074b7ec78a>:1: DtypeWarning: Columns (9,13) have mixed types. Specify dtype option on import or set low_memory=False.\n",
            "  usda_pdp = pd.read_csv(\"USDA_PDP_AnalyticalResults (1).csv\")\n"
          ]
        }
      ]
    },
    {
      "cell_type": "code",
      "source": [
        "usda_pdp[usda_pdp[\"Sample ID\"].str[:2] == \"MI\"][\"Concentration\"].sort_values(ascending=False).head(100)"
      ],
      "metadata": {
        "colab": {
          "base_uri": "https://localhost:8080/",
          "height": 458
        },
        "id": "FKMbWajL9BXQ",
        "outputId": "41f54bd9-59a5-48e4-db8c-325f751fe754"
      },
      "execution_count": null,
      "outputs": [
        {
          "output_type": "execute_result",
          "data": {
            "text/plain": [
              "112578    3300.0\n",
              "268507    3200.0\n",
              "112556    3028.0\n",
              "109439    2299.0\n",
              "109492    1673.0\n",
              "           ...  \n",
              "112564     322.0\n",
              "268444     320.0\n",
              "112565     318.0\n",
              "109404     318.0\n",
              "131330     316.0\n",
              "Name: Concentration, Length: 100, dtype: float64"
            ],
            "text/html": [
              "<div>\n",
              "<style scoped>\n",
              "    .dataframe tbody tr th:only-of-type {\n",
              "        vertical-align: middle;\n",
              "    }\n",
              "\n",
              "    .dataframe tbody tr th {\n",
              "        vertical-align: top;\n",
              "    }\n",
              "\n",
              "    .dataframe thead th {\n",
              "        text-align: right;\n",
              "    }\n",
              "</style>\n",
              "<table border=\"1\" class=\"dataframe\">\n",
              "  <thead>\n",
              "    <tr style=\"text-align: right;\">\n",
              "      <th></th>\n",
              "      <th>Concentration</th>\n",
              "    </tr>\n",
              "  </thead>\n",
              "  <tbody>\n",
              "    <tr>\n",
              "      <th>112578</th>\n",
              "      <td>3300.0</td>\n",
              "    </tr>\n",
              "    <tr>\n",
              "      <th>268507</th>\n",
              "      <td>3200.0</td>\n",
              "    </tr>\n",
              "    <tr>\n",
              "      <th>112556</th>\n",
              "      <td>3028.0</td>\n",
              "    </tr>\n",
              "    <tr>\n",
              "      <th>109439</th>\n",
              "      <td>2299.0</td>\n",
              "    </tr>\n",
              "    <tr>\n",
              "      <th>109492</th>\n",
              "      <td>1673.0</td>\n",
              "    </tr>\n",
              "    <tr>\n",
              "      <th>...</th>\n",
              "      <td>...</td>\n",
              "    </tr>\n",
              "    <tr>\n",
              "      <th>112564</th>\n",
              "      <td>322.0</td>\n",
              "    </tr>\n",
              "    <tr>\n",
              "      <th>268444</th>\n",
              "      <td>320.0</td>\n",
              "    </tr>\n",
              "    <tr>\n",
              "      <th>112565</th>\n",
              "      <td>318.0</td>\n",
              "    </tr>\n",
              "    <tr>\n",
              "      <th>109404</th>\n",
              "      <td>318.0</td>\n",
              "    </tr>\n",
              "    <tr>\n",
              "      <th>131330</th>\n",
              "      <td>316.0</td>\n",
              "    </tr>\n",
              "  </tbody>\n",
              "</table>\n",
              "<p>100 rows × 1 columns</p>\n",
              "</div><br><label><b>dtype:</b> float64</label>"
            ]
          },
          "metadata": {},
          "execution_count": 87
        }
      ]
    },
    {
      "cell_type": "code",
      "source": [
        "#texas_data = usda_pdp[usda_pdp[\"Sample ID\"].str[:2] == \"MI\"]\n",
        "#print(texas_data)\n",
        "\n"
      ],
      "metadata": {
        "id": "DgHPsUO_C-Hc"
      },
      "execution_count": null,
      "outputs": []
    },
    {
      "cell_type": "code",
      "source": [
        "def fix_year(year_str):\n",
        "    year = int(year_str)\n",
        "    if 24 <= year <= 99:\n",
        "        return 1900 + year\n",
        "    else:\n",
        "        return 2000 + year\n",
        "\n",
        "for index, row in usda_pdp.iterrows():\n",
        "    sample_id = row['Sample ID']\n",
        "    year_str = sample_id[2:4]  # Extract year string\n",
        "    year = fix_year(year_str)  # Call fix_year to get corrected year\n",
        "    pesticide_name = row['Pesticide Name']\n",
        "   # print(f\"Year: {year}, Pesticide Name: {pesticide_name}\")\n"
      ],
      "metadata": {
        "id": "r5mbVOCaNbjX"
      },
      "execution_count": null,
      "outputs": []
    },
    {
      "cell_type": "code",
      "source": [
        "usda_pdp['State'] = usda_pdp['Sample ID'].str[:2]  # Extract first 2 characters for state\n",
        "usda_pdp['Year'] = usda_pdp['Sample ID'].str[2:4].apply(fix_year)  # Extract & correct year"
      ],
      "metadata": {
        "id": "EXyaIl6MPbew"
      },
      "execution_count": null,
      "outputs": []
    },
    {
      "cell_type": "code",
      "source": [
        "texas_data = usda_pdp[usda_pdp['State'] == 'TX']\n",
        "print(texas_data)"
      ],
      "metadata": {
        "colab": {
          "base_uri": "https://localhost:8080/"
        },
        "id": "y2pfQwKcQV8o",
        "outputId": "cfcb587f-0c5d-478a-8c47-979267d2e7d3"
      },
      "execution_count": null,
      "outputs": [
        {
          "output_type": "stream",
          "name": "stdout",
          "text": [
            "                 Sample ID Commod Pesticide Code   Pesticide Name Test Class  \\\n",
            "1476     TX9401180104APTX1     AP            042  Azinphos methyl          C   \n",
            "1477     TX9401180104APTX1     AP            623       Propargite          I   \n",
            "1478     TX9401180105APTX1     AP            042  Azinphos methyl          C   \n",
            "1479     TX9401180105APTX1     AP            157    Thiabendazole          B   \n",
            "1480     TX9401180201APTX1     AP            011           Captan          A   \n",
            "...                    ...    ...            ...              ...        ...   \n",
            "597500   TX2001130216BNOH1     BN            B48     Azoxystrobin          F   \n",
            "597501  TX2006010216BNOH1P     BN            B48     Azoxystrobin          F   \n",
            "597502  TX2010050108BNOH1P     BN            B48     Azoxystrobin          F   \n",
            "597503  TX2006010216BNOH1P     BN            B52       Buprofezin          F   \n",
            "597504  TX2010050108BNOH1P     BN            B52       Buprofezin          F   \n",
            "\n",
            "        Concentration    LOD pp_ Confirm 1 Confirm 2 Annotate Quantitate Mean  \\\n",
            "1476           0.0400  0.024   M         D         M        Q          M    O   \n",
            "1477           0.4300  0.087   M         M       NaN      NaN          M    O   \n",
            "1478           0.0400  0.024   M         D         M        Q          H    O   \n",
            "1479           0.3000  0.180   M         M       NaN        Q          M    O   \n",
            "1480           0.1100  0.012   M         D         M      NaN          H    O   \n",
            "...               ...    ...  ..       ...       ...      ...        ...  ...   \n",
            "597500         0.0072  0.002   M        LU       NaN      NaN        NaN    O   \n",
            "597501         0.0033  0.002   M        LU       NaN        Q        NaN    O   \n",
            "597502         0.0068  0.002   M        LU       NaN      NaN        NaN    O   \n",
            "597503         0.0172  0.001   M        LU       NaN      NaN        NaN    O   \n",
            "597504         0.0326  0.001   M        LU       NaN      NaN        NaN    O   \n",
            "\n",
            "       Extract  Determ EPA Tolerance (ppm) State  Year  \n",
            "1476       NaN     NaN                   2    TX  1994  \n",
            "1477       NaN     NaN                   3    TX  1994  \n",
            "1478       NaN     NaN                   2    TX  1994  \n",
            "1479       NaN     NaN                  10    TX  1994  \n",
            "1480       NaN     NaN                  25    TX  1994  \n",
            "...        ...     ...                 ...   ...   ...  \n",
            "597500     805    52.0              0.1 EP    TX  2020  \n",
            "597501     805    52.0              0.1 EP    TX  2020  \n",
            "597502     805    52.0              0.1 EP    TX  2020  \n",
            "597503     805    52.0                 0.2    TX  2020  \n",
            "597504     805    52.0                 0.2    TX  2020  \n",
            "\n",
            "[70695 rows x 18 columns]\n"
          ]
        }
      ]
    },
    {
      "cell_type": "code",
      "source": [
        "azoxystrobin_data = usda_pdp[usda_pdp['Pesticide Name'] == 'Azoxystrobin']\n",
        "print(azoxystrobin_data)\n",
        "azoxystrobin_data[['State', 'Year', 'Concentration']].to_csv('azoxystrobin_data.csv', index=False)\n",
        "from google.colab import files\n",
        "\n",
        "files.download('azoxystrobin_data.csv')"
      ],
      "metadata": {
        "colab": {
          "base_uri": "https://localhost:8080/",
          "height": 711
        },
        "id": "y6LSNKGqSq4b",
        "outputId": "f5aa301d-b135-49e9-8866-d87377d97249"
      },
      "execution_count": null,
      "outputs": [
        {
          "output_type": "stream",
          "name": "stdout",
          "text": [
            "                 Sample ID Commod Pesticide Code Pesticide Name Test Class  \\\n",
            "70833    CA0101240150TPFL1     TP            B48   Azoxystrobin          F   \n",
            "70837    CA0103010450TPFL1     TP            B48   Azoxystrobin          F   \n",
            "70849    CA0105300329TPFL1     TP            B48   Azoxystrobin          F   \n",
            "70855    CA0105310319TPFL1     TP            B48   Azoxystrobin          F   \n",
            "70858    CA0106270329TPFL1     TP            B48   Azoxystrobin          F   \n",
            "...                    ...    ...            ...            ...        ...   \n",
            "597498  OH2010130426BNOH1P     BN            B48   Azoxystrobin          F   \n",
            "597499   TX2001130201BNOH1     BN            B48   Azoxystrobin          F   \n",
            "597500   TX2001130216BNOH1     BN            B48   Azoxystrobin          F   \n",
            "597501  TX2006010216BNOH1P     BN            B48   Azoxystrobin          F   \n",
            "597502  TX2010050108BNOH1P     BN            B48   Azoxystrobin          F   \n",
            "\n",
            "        Concentration    LOD pp_ Confirm 1 Confirm 2 Annotate Quantitate Mean  \\\n",
            "70833          0.0290  0.025   M         L       NaN      NaN          M    O   \n",
            "70837          0.0250  0.025   M         L       NaN      NaN          M    O   \n",
            "70849          0.0300  0.025   M         L       NaN      NaN          M    O   \n",
            "70855          0.0270  0.025   M         L       NaN      NaN          M    O   \n",
            "70858          0.2700  0.025   M         L       NaN      NaN          M    O   \n",
            "...               ...    ...  ..       ...       ...      ...        ...  ...   \n",
            "597498         0.0033  0.002   M        LU       NaN        Q        NaN    O   \n",
            "597499         0.0033  0.002   M        LU       NaN        Q        NaN    O   \n",
            "597500         0.0072  0.002   M        LU       NaN      NaN        NaN    O   \n",
            "597501         0.0033  0.002   M        LU       NaN        Q        NaN    O   \n",
            "597502         0.0068  0.002   M        LU       NaN      NaN        NaN    O   \n",
            "\n",
            "       Extract  Determ EPA Tolerance (ppm) State  Year  \n",
            "70833      553    62.0                 0.6    CA  2001  \n",
            "70837      553    62.0                 0.6    CA  2001  \n",
            "70849      553    62.0                 0.6    CA  2001  \n",
            "70855      553    62.0                 0.6    CA  2001  \n",
            "70858      553    62.0                 0.6    CA  2001  \n",
            "...        ...     ...                 ...   ...   ...  \n",
            "597498     805    52.0              0.1 EP    OH  2020  \n",
            "597499     805    52.0              0.1 EP    TX  2020  \n",
            "597500     805    52.0              0.1 EP    TX  2020  \n",
            "597501     805    52.0              0.1 EP    TX  2020  \n",
            "597502     805    52.0              0.1 EP    TX  2020  \n",
            "\n",
            "[14740 rows x 18 columns]\n"
          ]
        },
        {
          "output_type": "display_data",
          "data": {
            "text/plain": [
              "<IPython.core.display.Javascript object>"
            ],
            "application/javascript": [
              "\n",
              "    async function download(id, filename, size) {\n",
              "      if (!google.colab.kernel.accessAllowed) {\n",
              "        return;\n",
              "      }\n",
              "      const div = document.createElement('div');\n",
              "      const label = document.createElement('label');\n",
              "      label.textContent = `Downloading \"${filename}\": `;\n",
              "      div.appendChild(label);\n",
              "      const progress = document.createElement('progress');\n",
              "      progress.max = size;\n",
              "      div.appendChild(progress);\n",
              "      document.body.appendChild(div);\n",
              "\n",
              "      const buffers = [];\n",
              "      let downloaded = 0;\n",
              "\n",
              "      const channel = await google.colab.kernel.comms.open(id);\n",
              "      // Send a message to notify the kernel that we're ready.\n",
              "      channel.send({})\n",
              "\n",
              "      for await (const message of channel.messages) {\n",
              "        // Send a message to notify the kernel that we're ready.\n",
              "        channel.send({})\n",
              "        if (message.buffers) {\n",
              "          for (const buffer of message.buffers) {\n",
              "            buffers.push(buffer);\n",
              "            downloaded += buffer.byteLength;\n",
              "            progress.value = downloaded;\n",
              "          }\n",
              "        }\n",
              "      }\n",
              "      const blob = new Blob(buffers, {type: 'application/binary'});\n",
              "      const a = document.createElement('a');\n",
              "      a.href = window.URL.createObjectURL(blob);\n",
              "      a.download = filename;\n",
              "      div.appendChild(a);\n",
              "      a.click();\n",
              "      div.remove();\n",
              "    }\n",
              "  "
            ]
          },
          "metadata": {}
        },
        {
          "output_type": "display_data",
          "data": {
            "text/plain": [
              "<IPython.core.display.Javascript object>"
            ],
            "application/javascript": [
              "download(\"download_fd0b5fd7-1e69-4a96-8dc2-d2c1e5865eb1\", \"azoxystrobin_data.csv\", 210610)"
            ]
          },
          "metadata": {}
        }
      ]
    },
    {
      "cell_type": "code",
      "source": [
        "#texas_glyphosate_data = usda_pdp[(usda_pdp['State'] == 'TX') & (usda_pdp['Pesticide Name'] == 'Glyphosate')]\n",
        "#print(texas_glyphosate_data)"
      ],
      "metadata": {
        "id": "4ll8oD8Nf5N_"
      },
      "execution_count": null,
      "outputs": []
    },
    {
      "cell_type": "code",
      "source": [],
      "metadata": {
        "id": "8HrZRsXEkOEw"
      },
      "execution_count": null,
      "outputs": []
    },
    {
      "cell_type": "code",
      "source": [
        "glyphosate_data = usda_pdp[usda_pdp['Pesticide Name'] == 'Glyphosate']\n",
        "print(glyphosate_data)\n",
        "glyphosate_data[['State', 'Year', 'Concentration']].to_csv('glyphosate_data.csv', index=False)\n",
        "from google.colab import files\n",
        "\n",
        "#files.download('glyphosate_data.csv')"
      ],
      "metadata": {
        "colab": {
          "base_uri": "https://localhost:8080/"
        },
        "id": "GCsKdfmLX8cx",
        "outputId": "761749a9-2eab-4755-d953-c8d89e9bed8f"
      },
      "execution_count": null,
      "outputs": [
        {
          "output_type": "stream",
          "name": "stdout",
          "text": [
            "                Sample ID Commod Pesticide Code Pesticide Name Test Class  \\\n",
            "266766  MO1009070031SYCO1     SY            653     Glyphosate          I   \n",
            "266768  MO1009150034SYCO1     SY            653     Glyphosate          I   \n",
            "266770  MO1009160036SYCO1     SY            653     Glyphosate          I   \n",
            "266771  MO1009170028SYCO1     SY            653     Glyphosate          I   \n",
            "266781  MO1010050020SYCO1     SY            653     Glyphosate          I   \n",
            "...                   ...    ...            ...            ...        ...   \n",
            "466952  MO2301130610SYUS2     SY            653     Glyphosate          I   \n",
            "466953  MO2301140596SYUS2     SY            653     Glyphosate          I   \n",
            "466955  MO2301150608SYUS2     SY            653     Glyphosate          I   \n",
            "466956  MO2301170611SYUS2     SY            653     Glyphosate          I   \n",
            "466957  MO2301200606SYUS2     SY            653     Glyphosate          I   \n",
            "\n",
            "        Concentration   LOD pp_ Confirm 1 Confirm 2 Annotate Quantitate Mean  \\\n",
            "266766          0.516  0.25   M        LU       NaN      NaN          E    O   \n",
            "266768          0.918  0.25   M        LU       NaN      NaN        NaN    O   \n",
            "266770          0.586  0.25   M        LU       NaN      NaN        NaN    O   \n",
            "266771          0.769  0.25   M        LU       NaN      NaN        NaN    O   \n",
            "266781          1.376  0.25   M        LU       NaN      NaN        NaN    O   \n",
            "...               ...   ...  ..       ...       ...      ...        ...  ...   \n",
            "466952          1.010  0.10   M        LU       NaN      NaN        NaN    O   \n",
            "466953          0.161  0.10   M        LU       NaN      NaN        NaN    O   \n",
            "466955          0.460  0.10   M        LU       NaN      NaN        NaN    O   \n",
            "466956          0.722  0.10   M        LU       NaN      NaN        NaN    O   \n",
            "466957          0.102  0.10   M        LU       NaN      NaN        NaN    O   \n",
            "\n",
            "       Extract  Determ EPA Tolerance (ppm) State  Year  \n",
            "266766     999    52.0                  20    MO  2010  \n",
            "266768     999    52.0                  20    MO  2010  \n",
            "266770     999    52.0                  20    MO  2010  \n",
            "266771     999    52.0                  20    MO  2010  \n",
            "266781     999    52.0                  20    MO  2010  \n",
            "...        ...     ...                 ...   ...   ...  \n",
            "466952     997    52.0                  20    MO  2023  \n",
            "466953     997    52.0                  20    MO  2023  \n",
            "466955     997    52.0                  20    MO  2023  \n",
            "466956     997    52.0                  20    MO  2023  \n",
            "466957     997    52.0                  20    MO  2023  \n",
            "\n",
            "[1048 rows x 18 columns]\n"
          ]
        }
      ]
    },
    {
      "cell_type": "code",
      "source": [
        "atrazine_data = usda_pdp[usda_pdp['Pesticide Name'] == 'Atrazine']\n",
        "print(atrazine_data)\n",
        "atrazine_data[['State', 'Year', 'Concentration']].to_csv('atrazine_data.csv', index=False)\n",
        "from google.colab import files\n",
        "\n",
        "files.download('atrazine_data.csv')"
      ],
      "metadata": {
        "colab": {
          "base_uri": "https://localhost:8080/",
          "height": 731
        },
        "id": "YaC2Jn9PJHeL",
        "outputId": "d390b4ee-79cb-4db0-d1ed-13a7b85e7937",
        "collapsed": true
      },
      "execution_count": null,
      "outputs": [
        {
          "output_type": "stream",
          "name": "stdout",
          "text": [
            "                Sample ID Commod Pesticide Code Pesticide Name Test Class  \\\n",
            "16357   NY9505310028SPNY1     SP            305       Atrazine          R   \n",
            "16360   NY9505310057SPNY1     SP            305       Atrazine          R   \n",
            "16776   MO9504200091WHUS3     WH            305       Atrazine          R   \n",
            "17707   MO9508020500WHUS3     WH            305       Atrazine          R   \n",
            "17756   MO9508140490WHUS3     WH            305       Atrazine          R   \n",
            "...                   ...    ...            ...            ...        ...   \n",
            "547983  MI0901270036GONY1     GO            305       Atrazine          R   \n",
            "564232  MI1501130007WMWA1     WM            305       Atrazine          R   \n",
            "566927  NY1707310088ASWA1     AS            305       Atrazine          R   \n",
            "570811  FL1907080091BSNY1     BS            305       Atrazine          R   \n",
            "578557  MD2106230042BRNY1     BR            305       Atrazine          R   \n",
            "\n",
            "        Concentration     LOD pp_ Confirm 1 Confirm 2 Annotate Quantitate  \\\n",
            "16357          0.0300  0.0180   M         D         M       QV          M   \n",
            "16360          0.0300  0.0180   M         D         M       QV          M   \n",
            "16776          0.0040  0.0020   M        MO       NaN        Q          H   \n",
            "17707          0.0040  0.0020   M        MO       NaN        Q          H   \n",
            "17756          0.0040  0.0020   M        MO       NaN        Q          H   \n",
            "...               ...     ...  ..       ...       ...      ...        ...   \n",
            "547983         0.0032  0.0019   M        GI       NaN       QV        NaN   \n",
            "564232         0.0030  0.0020   M        LU       NaN        V        NaN   \n",
            "566927         0.5300  0.0020   M        LU       NaN        V        NaN   \n",
            "570811         0.0091  0.0030   M        LU       NaN        V        NaN   \n",
            "578557         0.0017  0.0010   M        LU       NaN       QV        NaN   \n",
            "\n",
            "       Mean Extract  Determ EPA Tolerance (ppm) State  Year  \n",
            "16357     A     NaN     NaN                  NT    NY  1995  \n",
            "16360     A     NaN     NaN                  NT    NY  1995  \n",
            "16776     O   999.0    99.0                0.25    MO  1995  \n",
            "17707     R   999.0    99.0                0.25    MO  1995  \n",
            "17756     O   999.0    99.0                0.25    MO  1995  \n",
            "...     ...     ...     ...                 ...   ...   ...  \n",
            "547983    O     806    73.0                  NT    MI  2009  \n",
            "564232    O     805    52.0                  NT    MI  2015  \n",
            "566927    O     805    64.0                  NT    NY  2017  \n",
            "570811    O     805    52.0                  NT    FL  2019  \n",
            "578557    O     805    52.0                  NT    MD  2021  \n",
            "\n",
            "[5802 rows x 18 columns]\n"
          ]
        },
        {
          "output_type": "display_data",
          "data": {
            "text/plain": [
              "<IPython.core.display.Javascript object>"
            ],
            "application/javascript": [
              "\n",
              "    async function download(id, filename, size) {\n",
              "      if (!google.colab.kernel.accessAllowed) {\n",
              "        return;\n",
              "      }\n",
              "      const div = document.createElement('div');\n",
              "      const label = document.createElement('label');\n",
              "      label.textContent = `Downloading \"${filename}\": `;\n",
              "      div.appendChild(label);\n",
              "      const progress = document.createElement('progress');\n",
              "      progress.max = size;\n",
              "      div.appendChild(progress);\n",
              "      document.body.appendChild(div);\n",
              "\n",
              "      const buffers = [];\n",
              "      let downloaded = 0;\n",
              "\n",
              "      const channel = await google.colab.kernel.comms.open(id);\n",
              "      // Send a message to notify the kernel that we're ready.\n",
              "      channel.send({})\n",
              "\n",
              "      for await (const message of channel.messages) {\n",
              "        // Send a message to notify the kernel that we're ready.\n",
              "        channel.send({})\n",
              "        if (message.buffers) {\n",
              "          for (const buffer of message.buffers) {\n",
              "            buffers.push(buffer);\n",
              "            downloaded += buffer.byteLength;\n",
              "            progress.value = downloaded;\n",
              "          }\n",
              "        }\n",
              "      }\n",
              "      const blob = new Blob(buffers, {type: 'application/binary'});\n",
              "      const a = document.createElement('a');\n",
              "      a.href = window.URL.createObjectURL(blob);\n",
              "      a.download = filename;\n",
              "      div.appendChild(a);\n",
              "      a.click();\n",
              "      div.remove();\n",
              "    }\n",
              "  "
            ]
          },
          "metadata": {}
        },
        {
          "output_type": "display_data",
          "data": {
            "text/plain": [
              "<IPython.core.display.Javascript object>"
            ],
            "application/javascript": [
              "download(\"download_2826b4ee-5212-4b2c-ac9c-c5c061352521\", \"atrazine_data.csv\", 76495)"
            ]
          },
          "metadata": {}
        }
      ]
    },
    {
      "cell_type": "code",
      "source": [],
      "metadata": {
        "id": "uu7ilSbdtMXC"
      },
      "execution_count": null,
      "outputs": []
    },
    {
      "cell_type": "code",
      "source": [],
      "metadata": {
        "id": "x9vikEthS8X7"
      },
      "execution_count": null,
      "outputs": []
    },
    {
      "cell_type": "code",
      "source": [
        "texas_azoxystrobin_data = azoxystrobin_data[azoxystrobin_data['State'] == 'TX']\n",
        "texas_azoxystrobin_data[['State', 'Year', 'Concentration']].to_csv('texas_azoxystrobin_data.csv', index=False)"
      ],
      "metadata": {
        "id": "QSMsQPHUTkuZ"
      },
      "execution_count": null,
      "outputs": []
    },
    {
      "cell_type": "code",
      "source": [
        "from google.colab import files\n",
        "\n",
        "files.download('texas_azoxystrobin_data.csv')"
      ],
      "metadata": {
        "colab": {
          "base_uri": "https://localhost:8080/",
          "height": 17
        },
        "id": "RLj58yRlTqeO",
        "outputId": "8a9cfeb8-615c-4b1b-a023-efec30fdeb32"
      },
      "execution_count": null,
      "outputs": [
        {
          "output_type": "display_data",
          "data": {
            "text/plain": [
              "<IPython.core.display.Javascript object>"
            ],
            "application/javascript": [
              "\n",
              "    async function download(id, filename, size) {\n",
              "      if (!google.colab.kernel.accessAllowed) {\n",
              "        return;\n",
              "      }\n",
              "      const div = document.createElement('div');\n",
              "      const label = document.createElement('label');\n",
              "      label.textContent = `Downloading \"${filename}\": `;\n",
              "      div.appendChild(label);\n",
              "      const progress = document.createElement('progress');\n",
              "      progress.max = size;\n",
              "      div.appendChild(progress);\n",
              "      document.body.appendChild(div);\n",
              "\n",
              "      const buffers = [];\n",
              "      let downloaded = 0;\n",
              "\n",
              "      const channel = await google.colab.kernel.comms.open(id);\n",
              "      // Send a message to notify the kernel that we're ready.\n",
              "      channel.send({})\n",
              "\n",
              "      for await (const message of channel.messages) {\n",
              "        // Send a message to notify the kernel that we're ready.\n",
              "        channel.send({})\n",
              "        if (message.buffers) {\n",
              "          for (const buffer of message.buffers) {\n",
              "            buffers.push(buffer);\n",
              "            downloaded += buffer.byteLength;\n",
              "            progress.value = downloaded;\n",
              "          }\n",
              "        }\n",
              "      }\n",
              "      const blob = new Blob(buffers, {type: 'application/binary'});\n",
              "      const a = document.createElement('a');\n",
              "      a.href = window.URL.createObjectURL(blob);\n",
              "      a.download = filename;\n",
              "      div.appendChild(a);\n",
              "      a.click();\n",
              "      div.remove();\n",
              "    }\n",
              "  "
            ]
          },
          "metadata": {}
        },
        {
          "output_type": "display_data",
          "data": {
            "text/plain": [
              "<IPython.core.display.Javascript object>"
            ],
            "application/javascript": [
              "download(\"download_c3b27a94-8ba0-41a3-8b66-2d06382c6970\", \"texas_azoxystrobin_data.csv\", 27966)"
            ]
          },
          "metadata": {}
        }
      ]
    }
  ]
}